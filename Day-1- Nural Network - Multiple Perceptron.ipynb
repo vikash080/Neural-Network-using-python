{
 "cells": [
  {
   "cell_type": "markdown",
   "id": "f16426e0",
   "metadata": {},
   "source": [
    "   # Feed Forward Neural Networks"
   ]
  },
  {
   "cell_type": "code",
   "execution_count": 35,
   "id": "a86817d3",
   "metadata": {},
   "outputs": [],
   "source": [
    "from IPython.display import Image\n",
    "%matplotlib inline"
   ]
  },
  {
   "cell_type": "markdown",
   "id": "ea0b6099",
   "metadata": {},
   "source": [
    "# implement a multilayer perceptron"
   ]
  },
  {
   "cell_type": "code",
   "execution_count": 36,
   "id": "caa0c0b8",
   "metadata": {},
   "outputs": [],
   "source": [
    "import numpy as np\n",
    "import sys\n",
    "\n",
    "class NeuralNetMLP(object):\n",
    "    def __init__(self, input_size, hidden_size, output_size):\n",
    "        # Initialize weights with random values\n",
    "        self.weights_input_hidden = 2 * np.random.random((input_size, hidden_size)) - 1\n",
    "        self.weights_hidden_output = 2 * np.random.random((hidden_size, output_size)) - 1\n",
    "\n",
    "    def sigmoid(x):\n",
    "        return 1 / (1 + np.exp(-x))\n",
    "\n",
    "    def sigmoid_derivative(x):\n",
    "        return x * (1 - x)\n",
    "\n",
    "    def feedforward(self, inputs):\n",
    "        # Input to hidden layer\n",
    "        hidden_inputs = np.dot(inputs, self.weights_input_hidden)\n",
    "        hidden_outputs = self.sigmoid(hidden_inputs)\n",
    "\n",
    "        # Hidden to output layer\n",
    "        final_inputs = np.dot(hidden_outputs, self.weights_hidden_output)\n",
    "        final_outputs = self.sigmoid(final_inputs)\n",
    "\n",
    "        return final_outputs\n",
    "    \n",
    "    def train(self, training_inputs, training_outputs, epochs):\n",
    "        for epoch in range(epochs):\n",
    "            # Forward pass\n",
    "            hidden_inputs = np.dot(training_inputs, self.weights_input_hidden)\n",
    "            hidden_outputs = self.sigmoid(hidden_inputs)\n",
    "\n",
    "            final_inputs = np.dot(hidden_outputs, self.weights_hidden_output)\n",
    "            final_outputs = self.sigmoid(final_inputs)\n",
    "\n",
    "            # Calculate errors\n",
    "            output_errors = training_outputs - final_outputs\n",
    "            hidden_errors = np.dot(output_errors, self.weights_hidden_output.T)\n",
    "\n",
    "            # Backpropagation\n",
    "            output_delta = output_errors * self.sigmoid_derivative(final_outputs)\n",
    "            hidden_delta = hidden_errors * self.sigmoid_derivative(hidden_outputs)\n",
    "\n",
    "            # Update weights\n",
    "            self.weights_hidden_output += np.dot(hidden_outputs.T, output_delta)\n",
    "            self.weights_input_hidden += np.dot(training_inputs.T, hidden_delta)\n"
   ]
  },
  {
   "cell_type": "code",
   "execution_count": null,
   "id": "03a05567",
   "metadata": {},
   "outputs": [],
   "source": [
    "   "
   ]
  },
  {
   "cell_type": "code",
   "execution_count": 37,
   "id": "4f888b77",
   "metadata": {},
   "outputs": [],
   "source": [
    "if __name__ == \"__main__\":\n",
    "    # Example usage\n",
    "    input_size = 3\n",
    "    hidden_size = 4\n",
    "    output_size = 1\n",
    "\n",
    "    neural_network = NeuralNetMLP(input_size, hidden_size, output_size)\n",
    "\n",
    "    # Example training data (XOR problem)\n",
    "    training_inputs = np.array([[0, 0, 1], [0, 1, 1], [1, 0, 1], [1, 1, 1]])\n",
    "    training_outputs = np.array([[0, 1, 1, 0]]).T\n",
    "\n"
   ]
  },
  {
   "cell_type": "code",
   "execution_count": 38,
   "id": "5f898f43",
   "metadata": {},
   "outputs": [
    {
     "name": "stdout",
     "output_type": "stream",
     "text": [
      "Random starting weights:\n",
      "Input to Hidden weights:\n",
      " [[-0.96638537  0.82725112 -0.23187788 -0.08556792]\n",
      " [ 0.85529728 -0.97645457 -0.54886329 -0.62967491]\n",
      " [-0.11466459  0.40809187  0.33094219 -0.22488717]]\n",
      "Hidden to Output weights:\n",
      " [[ 0.23510529]\n",
      " [-0.20208438]\n",
      " [ 0.61039997]\n",
      " [ 0.93149068]]\n",
      "Training the neural network...\n"
     ]
    },
    {
     "ename": "TypeError",
     "evalue": "NeuralNetMLP.sigmoid() takes 1 positional argument but 2 were given",
     "output_type": "error",
     "traceback": [
      "\u001b[1;31m---------------------------------------------------------------------------\u001b[0m",
      "\u001b[1;31mTypeError\u001b[0m                                 Traceback (most recent call last)",
      "Cell \u001b[1;32mIn[38], line 6\u001b[0m\n\u001b[0;32m      3\u001b[0m \u001b[38;5;28mprint\u001b[39m(\u001b[38;5;124m\"\u001b[39m\u001b[38;5;124mHidden to Output weights:\u001b[39m\u001b[38;5;130;01m\\n\u001b[39;00m\u001b[38;5;124m\"\u001b[39m, neural_network\u001b[38;5;241m.\u001b[39mweights_hidden_output)\n\u001b[0;32m      5\u001b[0m \u001b[38;5;28mprint\u001b[39m(\u001b[38;5;124m\"\u001b[39m\u001b[38;5;124mTraining the neural network...\u001b[39m\u001b[38;5;124m\"\u001b[39m)\n\u001b[1;32m----> 6\u001b[0m neural_network\u001b[38;5;241m.\u001b[39mtrain(training_inputs, training_outputs, epochs\u001b[38;5;241m=\u001b[39m\u001b[38;5;241m10000\u001b[39m)\n\u001b[0;32m      8\u001b[0m \u001b[38;5;28mprint\u001b[39m(\u001b[38;5;124m\"\u001b[39m\u001b[38;5;130;01m\\n\u001b[39;00m\u001b[38;5;124mTrained weights:\u001b[39m\u001b[38;5;124m\"\u001b[39m)\n\u001b[0;32m      9\u001b[0m \u001b[38;5;28mprint\u001b[39m(\u001b[38;5;124m\"\u001b[39m\u001b[38;5;124mInput to Hidden weights:\u001b[39m\u001b[38;5;130;01m\\n\u001b[39;00m\u001b[38;5;124m\"\u001b[39m, neural_network\u001b[38;5;241m.\u001b[39mweights_input_hidden)\n",
      "Cell \u001b[1;32mIn[36], line 31\u001b[0m, in \u001b[0;36mNeuralNetMLP.train\u001b[1;34m(self, training_inputs, training_outputs, epochs)\u001b[0m\n\u001b[0;32m     28\u001b[0m \u001b[38;5;28;01mfor\u001b[39;00m epoch \u001b[38;5;129;01min\u001b[39;00m \u001b[38;5;28mrange\u001b[39m(epochs):\n\u001b[0;32m     29\u001b[0m     \u001b[38;5;66;03m# Forward pass\u001b[39;00m\n\u001b[0;32m     30\u001b[0m     hidden_inputs \u001b[38;5;241m=\u001b[39m np\u001b[38;5;241m.\u001b[39mdot(training_inputs, \u001b[38;5;28mself\u001b[39m\u001b[38;5;241m.\u001b[39mweights_input_hidden)\n\u001b[1;32m---> 31\u001b[0m     hidden_outputs \u001b[38;5;241m=\u001b[39m \u001b[38;5;28mself\u001b[39m\u001b[38;5;241m.\u001b[39msigmoid(hidden_inputs)\n\u001b[0;32m     33\u001b[0m     final_inputs \u001b[38;5;241m=\u001b[39m np\u001b[38;5;241m.\u001b[39mdot(hidden_outputs, \u001b[38;5;28mself\u001b[39m\u001b[38;5;241m.\u001b[39mweights_hidden_output)\n\u001b[0;32m     34\u001b[0m     final_outputs \u001b[38;5;241m=\u001b[39m \u001b[38;5;28mself\u001b[39m\u001b[38;5;241m.\u001b[39msigmoid(final_inputs)\n",
      "\u001b[1;31mTypeError\u001b[0m: NeuralNetMLP.sigmoid() takes 1 positional argument but 2 were given"
     ]
    }
   ],
   "source": [
    "    print(\"Random starting weights:\")\n",
    "    print(\"Input to Hidden weights:\\n\", neural_network.weights_input_hidden)\n",
    "    print(\"Hidden to Output weights:\\n\", neural_network.weights_hidden_output)\n",
    "\n",
    "    print(\"Training the neural network...\")\n",
    "    neural_network.train(training_inputs, training_outputs, epochs=10000)\n",
    "\n",
    "    print(\"\\nTrained weights:\")\n",
    "    print(\"Input to Hidden weights:\\n\", neural_network.weights_input_hidden)\n",
    "    print(\"Hidden to Output weights:\\n\", neural_network.weights_hidden_output)\n",
    "    # Test the network\n",
    "    new_input = np.array([1, 0, 0])\n",
    "    prediction = neural_network.feedforward(new_input)\n",
    "    print(\"\\nTesting the network with input [1, 0, 0]:\")\n",
    "    print(\"Prediction:\", prediction)"
   ]
  },
  {
   "cell_type": "code",
   "execution_count": null,
   "id": "32d0d3ad",
   "metadata": {},
   "outputs": [],
   "source": []
  },
  {
   "cell_type": "code",
   "execution_count": null,
   "id": "d3796733",
   "metadata": {},
   "outputs": [],
   "source": []
  }
 ],
 "metadata": {
  "kernelspec": {
   "display_name": "Python 3 (ipykernel)",
   "language": "python",
   "name": "python3"
  },
  "language_info": {
   "codemirror_mode": {
    "name": "ipython",
    "version": 3
   },
   "file_extension": ".py",
   "mimetype": "text/x-python",
   "name": "python",
   "nbconvert_exporter": "python",
   "pygments_lexer": "ipython3",
   "version": "3.11.4"
  }
 },
 "nbformat": 4,
 "nbformat_minor": 5
}
