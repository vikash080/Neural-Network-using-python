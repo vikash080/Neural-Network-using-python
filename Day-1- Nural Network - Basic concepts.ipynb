{
 "cells": [
  {
   "cell_type": "markdown",
   "id": "f5e1c870",
   "metadata": {},
   "source": [
    "# Creating basic structures"
   ]
  },
  {
   "cell_type": "code",
   "execution_count": 5,
   "id": "9d2d327d",
   "metadata": {},
   "outputs": [],
   "source": [
    "from IPython.display import Image\n",
    "%matplotlib inline"
   ]
  },
  {
   "cell_type": "markdown",
   "id": "350ebf24",
   "metadata": {},
   "source": [
    "# Single-Layer Perceptron"
   ]
  },
  {
   "cell_type": "code",
   "execution_count": null,
   "id": "27a5a6f0",
   "metadata": {},
   "outputs": [],
   "source": [
    "Image(filename='images/12_01.png', width=600)"
   ]
  },
  {
   "cell_type": "code",
   "execution_count": 23,
   "id": "27455737",
   "metadata": {},
   "outputs": [],
   "source": [
    "from numpy import exp\n",
    "from numpy import array\n",
    "from numpy import random,dot"
   ]
  },
  {
   "cell_type": "markdown",
   "id": "e23f835c",
   "metadata": {},
   "source": [
    "# create a class - NuralNetwork"
   ]
  },
  {
   "cell_type": "code",
   "execution_count": 46,
   "id": "be9276b9",
   "metadata": {},
   "outputs": [],
   "source": [
    "class NeuralNetwork():\n",
    "    def __init__(self):\n",
    "        \n",
    "\n",
    " #seed the random number generator ,so it generates the same numbers\n",
    " #every time the program runs\n",
    "     random.seed(2)\n",
    " #we model a single neuron with 3 input and 1 output connection\n",
    " #we assign a random weights to a 3*1 matrix with values in the rang\n",
    "     self.synaptic_weights=2*random.random((3,1))-1\n",
    "\n",
    " #Crete a sigmoid activation function\n",
    "    def __sigmoid(self, x):\n",
    "        return 1/(1+exp(-x))\n",
    "\n",
    "    def __sigmoid_derivative(self,x):\n",
    "        return x*(1 - x)\n",
    "\n",
    "    def think(self,inputs):\n",
    "        return self.__sigmoid(dot(inputs,self.synaptic_weights))\n",
    "\n",
    "    def train(self,training_set_inputs,training_set_outputs,number_of_training_iterations):\n",
    "        for iteration in range(number_of_training_iterations):\n",
    "            output=self.think(training_set_inputs)\n",
    "            error=training_set_outputs-output\n",
    "            adjusment=dot(training_set_inputs.T,error*self.__sigmoid_derivative(output))\n",
    "\n",
    " #adjust three weights\n",
    "            self.synaptic_weights+=adjusment"
   ]
  },
  {
   "cell_type": "markdown",
   "id": "32d6dcb1",
   "metadata": {},
   "source": [
    "# Initialize the Network"
   ]
  },
  {
   "cell_type": "code",
   "execution_count": 42,
   "id": "5f759491",
   "metadata": {},
   "outputs": [
    {
     "name": "stdout",
     "output_type": "stream",
     "text": [
      "random staring weights:\n",
      "\n",
      "[[-0.1280102 ]\n",
      " [-0.94814754]\n",
      " [ 0.09932496]]\n"
     ]
    }
   ],
   "source": [
    "if __name__ == '__main__':\n",
    "    #Initialize a single neuron \n",
    "    \n",
    "    neural_network=NeuralNetwork()\n",
    "    print('random staring weights:\\n')\n",
    "    print(neural_network.synaptic_weights)\n",
    "    \n",
    "    training_set_inputs=array([[0,0,1],[1,1,1],[1,0,1],[0,1,1]])\n",
    "    training_set_outputs=array([[0,1,1,0]]).T"
   ]
  },
  {
   "cell_type": "markdown",
   "id": "5e6da5a0",
   "metadata": {},
   "source": [
    "# Train the Neural Network"
   ]
  },
  {
   "cell_type": "code",
   "execution_count": 44,
   "id": "66762230",
   "metadata": {},
   "outputs": [
    {
     "name": "stdout",
     "output_type": "stream",
     "text": [
      "*******************Neural Network Training Phase*****************\n",
      "New weights afer training\n",
      "\n",
      "[[10.38032712]\n",
      " [-0.2069612 ]\n",
      " [-4.98415279]]\n",
      "\n",
      "Considering the new situation [1, 0, 0]--> ?:\n",
      "\n",
      "[0.99996896]\n"
     ]
    }
   ],
   "source": [
    "print('*******************Neural Network Training Phase*****************')\n",
    "neural_network.train(training_set_inputs, training_set_outputs, 10000)\n",
    "print('New weights afer training\\n')\n",
    "print(neural_network.synaptic_weights)\n",
    "print()\n",
    "\n",
    "#Test the network\n",
    "print('Considering the new situation [1, 0, 0]--> ?:')\n",
    "print()\n",
    "print(neural_network.think(array([1,0,0])))\n",
    "\n"
   ]
  },
  {
   "cell_type": "code",
   "execution_count": null,
   "id": "2b24f872",
   "metadata": {},
   "outputs": [],
   "source": []
  }
 ],
 "metadata": {
  "kernelspec": {
   "display_name": "Python 3 (ipykernel)",
   "language": "python",
   "name": "python3"
  },
  "language_info": {
   "codemirror_mode": {
    "name": "ipython",
    "version": 3
   },
   "file_extension": ".py",
   "mimetype": "text/x-python",
   "name": "python",
   "nbconvert_exporter": "python",
   "pygments_lexer": "ipython3",
   "version": "3.11.4"
  }
 },
 "nbformat": 4,
 "nbformat_minor": 5
}
